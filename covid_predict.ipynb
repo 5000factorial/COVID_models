{
 "cells": [
  {
   "cell_type": "code",
   "execution_count": 1,
   "metadata": {},
   "outputs": [],
   "source": [
    "import numpy as np\n",
    "import pandas as pd\n",
    "import matplotlib.pyplot as plt\n",
    "from sklearn import linear_model,ensemble,metrics,preprocessing\n",
    "from xgboost import XGBRegressor"
   ]
  },
  {
   "cell_type": "markdown",
   "metadata": {},
   "source": [
    "# загрузка данных"
   ]
  },
  {
   "cell_type": "code",
   "execution_count": 44,
   "metadata": {},
   "outputs": [],
   "source": [
    "url = 'https://raw.githubusercontent.com/CSSEGISandData/COVID-19/master/csse_covid_19_data/csse_covid_19_time_series/time_series_covid19_confirmed_global.csv'\n",
    "confirmed = pd.read_csv(url)\n",
    "confirmed = confirmed.groupby(\"Country/Region\").sum()\n",
    "url = 'https://raw.githubusercontent.com/CSSEGISandData/COVID-19/master/csse_covid_19_data/csse_covid_19_time_series/time_series_covid19_deaths_global.csv'\n",
    "deaths = pd.read_csv(url)\n",
    "deaths = deaths.groupby(\"Country/Region\").sum()\n",
    "url = 'https://raw.githubusercontent.com/CSSEGISandData/COVID-19/master/csse_covid_19_data/csse_covid_19_time_series/time_series_covid19_recovered_global.csv'\n",
    "recovered = pd.read_csv(url)\n",
    "recovered = recovered.groupby(\"Country/Region\").sum()"
   ]
  },
  {
   "cell_type": "code",
   "execution_count": 45,
   "metadata": {
    "scrolled": true
   },
   "outputs": [
    {
     "data": {
      "text/html": [
       "<div>\n",
       "<style scoped>\n",
       "    .dataframe tbody tr th:only-of-type {\n",
       "        vertical-align: middle;\n",
       "    }\n",
       "\n",
       "    .dataframe tbody tr th {\n",
       "        vertical-align: top;\n",
       "    }\n",
       "\n",
       "    .dataframe thead th {\n",
       "        text-align: right;\n",
       "    }\n",
       "</style>\n",
       "<table border=\"1\" class=\"dataframe\">\n",
       "  <thead>\n",
       "    <tr style=\"text-align: right;\">\n",
       "      <th></th>\n",
       "      <th>Lat</th>\n",
       "      <th>Long</th>\n",
       "      <th>1/22/20</th>\n",
       "      <th>1/23/20</th>\n",
       "      <th>1/24/20</th>\n",
       "      <th>1/25/20</th>\n",
       "      <th>1/26/20</th>\n",
       "      <th>1/27/20</th>\n",
       "      <th>1/28/20</th>\n",
       "      <th>1/29/20</th>\n",
       "      <th>...</th>\n",
       "      <th>4/19/20</th>\n",
       "      <th>4/20/20</th>\n",
       "      <th>4/21/20</th>\n",
       "      <th>4/22/20</th>\n",
       "      <th>4/23/20</th>\n",
       "      <th>4/24/20</th>\n",
       "      <th>4/25/20</th>\n",
       "      <th>4/26/20</th>\n",
       "      <th>4/27/20</th>\n",
       "      <th>4/28/20</th>\n",
       "    </tr>\n",
       "    <tr>\n",
       "      <th>Country/Region</th>\n",
       "      <th></th>\n",
       "      <th></th>\n",
       "      <th></th>\n",
       "      <th></th>\n",
       "      <th></th>\n",
       "      <th></th>\n",
       "      <th></th>\n",
       "      <th></th>\n",
       "      <th></th>\n",
       "      <th></th>\n",
       "      <th></th>\n",
       "      <th></th>\n",
       "      <th></th>\n",
       "      <th></th>\n",
       "      <th></th>\n",
       "      <th></th>\n",
       "      <th></th>\n",
       "      <th></th>\n",
       "      <th></th>\n",
       "      <th></th>\n",
       "      <th></th>\n",
       "    </tr>\n",
       "  </thead>\n",
       "  <tbody>\n",
       "    <tr>\n",
       "      <th>Afghanistan</th>\n",
       "      <td>33.0000</td>\n",
       "      <td>65.0000</td>\n",
       "      <td>0</td>\n",
       "      <td>0</td>\n",
       "      <td>0</td>\n",
       "      <td>0</td>\n",
       "      <td>0</td>\n",
       "      <td>0</td>\n",
       "      <td>0</td>\n",
       "      <td>0</td>\n",
       "      <td>...</td>\n",
       "      <td>996</td>\n",
       "      <td>1026</td>\n",
       "      <td>1092</td>\n",
       "      <td>1176</td>\n",
       "      <td>1279</td>\n",
       "      <td>1351</td>\n",
       "      <td>1463</td>\n",
       "      <td>1531</td>\n",
       "      <td>1703</td>\n",
       "      <td>1828</td>\n",
       "    </tr>\n",
       "    <tr>\n",
       "      <th>Albania</th>\n",
       "      <td>41.1533</td>\n",
       "      <td>20.1683</td>\n",
       "      <td>0</td>\n",
       "      <td>0</td>\n",
       "      <td>0</td>\n",
       "      <td>0</td>\n",
       "      <td>0</td>\n",
       "      <td>0</td>\n",
       "      <td>0</td>\n",
       "      <td>0</td>\n",
       "      <td>...</td>\n",
       "      <td>562</td>\n",
       "      <td>584</td>\n",
       "      <td>609</td>\n",
       "      <td>634</td>\n",
       "      <td>663</td>\n",
       "      <td>678</td>\n",
       "      <td>712</td>\n",
       "      <td>726</td>\n",
       "      <td>736</td>\n",
       "      <td>750</td>\n",
       "    </tr>\n",
       "    <tr>\n",
       "      <th>Algeria</th>\n",
       "      <td>28.0339</td>\n",
       "      <td>1.6596</td>\n",
       "      <td>0</td>\n",
       "      <td>0</td>\n",
       "      <td>0</td>\n",
       "      <td>0</td>\n",
       "      <td>0</td>\n",
       "      <td>0</td>\n",
       "      <td>0</td>\n",
       "      <td>0</td>\n",
       "      <td>...</td>\n",
       "      <td>2629</td>\n",
       "      <td>2718</td>\n",
       "      <td>2811</td>\n",
       "      <td>2910</td>\n",
       "      <td>3007</td>\n",
       "      <td>3127</td>\n",
       "      <td>3256</td>\n",
       "      <td>3382</td>\n",
       "      <td>3517</td>\n",
       "      <td>3649</td>\n",
       "    </tr>\n",
       "    <tr>\n",
       "      <th>Andorra</th>\n",
       "      <td>42.5063</td>\n",
       "      <td>1.5218</td>\n",
       "      <td>0</td>\n",
       "      <td>0</td>\n",
       "      <td>0</td>\n",
       "      <td>0</td>\n",
       "      <td>0</td>\n",
       "      <td>0</td>\n",
       "      <td>0</td>\n",
       "      <td>0</td>\n",
       "      <td>...</td>\n",
       "      <td>713</td>\n",
       "      <td>717</td>\n",
       "      <td>717</td>\n",
       "      <td>723</td>\n",
       "      <td>723</td>\n",
       "      <td>731</td>\n",
       "      <td>738</td>\n",
       "      <td>738</td>\n",
       "      <td>743</td>\n",
       "      <td>743</td>\n",
       "    </tr>\n",
       "    <tr>\n",
       "      <th>Angola</th>\n",
       "      <td>-11.2027</td>\n",
       "      <td>17.8739</td>\n",
       "      <td>0</td>\n",
       "      <td>0</td>\n",
       "      <td>0</td>\n",
       "      <td>0</td>\n",
       "      <td>0</td>\n",
       "      <td>0</td>\n",
       "      <td>0</td>\n",
       "      <td>0</td>\n",
       "      <td>...</td>\n",
       "      <td>24</td>\n",
       "      <td>24</td>\n",
       "      <td>24</td>\n",
       "      <td>25</td>\n",
       "      <td>25</td>\n",
       "      <td>25</td>\n",
       "      <td>25</td>\n",
       "      <td>26</td>\n",
       "      <td>27</td>\n",
       "      <td>27</td>\n",
       "    </tr>\n",
       "  </tbody>\n",
       "</table>\n",
       "<p>5 rows × 100 columns</p>\n",
       "</div>"
      ],
      "text/plain": [
       "                    Lat     Long  1/22/20  1/23/20  1/24/20  1/25/20  1/26/20  \\\n",
       "Country/Region                                                                  \n",
       "Afghanistan     33.0000  65.0000        0        0        0        0        0   \n",
       "Albania         41.1533  20.1683        0        0        0        0        0   \n",
       "Algeria         28.0339   1.6596        0        0        0        0        0   \n",
       "Andorra         42.5063   1.5218        0        0        0        0        0   \n",
       "Angola         -11.2027  17.8739        0        0        0        0        0   \n",
       "\n",
       "                1/27/20  1/28/20  1/29/20  ...  4/19/20  4/20/20  4/21/20  \\\n",
       "Country/Region                             ...                              \n",
       "Afghanistan           0        0        0  ...      996     1026     1092   \n",
       "Albania               0        0        0  ...      562      584      609   \n",
       "Algeria               0        0        0  ...     2629     2718     2811   \n",
       "Andorra               0        0        0  ...      713      717      717   \n",
       "Angola                0        0        0  ...       24       24       24   \n",
       "\n",
       "                4/22/20  4/23/20  4/24/20  4/25/20  4/26/20  4/27/20  4/28/20  \n",
       "Country/Region                                                                 \n",
       "Afghanistan        1176     1279     1351     1463     1531     1703     1828  \n",
       "Albania             634      663      678      712      726      736      750  \n",
       "Algeria            2910     3007     3127     3256     3382     3517     3649  \n",
       "Andorra             723      723      731      738      738      743      743  \n",
       "Angola               25       25       25       25       26       27       27  \n",
       "\n",
       "[5 rows x 100 columns]"
      ]
     },
     "execution_count": 45,
     "metadata": {},
     "output_type": "execute_result"
    }
   ],
   "source": [
    "confirmed.head()"
   ]
  },
  {
   "cell_type": "code",
   "execution_count": 46,
   "metadata": {
    "scrolled": true
   },
   "outputs": [
    {
     "data": {
      "text/plain": [
       "(185, 100)"
      ]
     },
     "execution_count": 46,
     "metadata": {},
     "output_type": "execute_result"
    }
   ],
   "source": [
    "confirmed.shape"
   ]
  },
  {
   "cell_type": "markdown",
   "metadata": {},
   "source": [
    "график по 5 странам с наибольшим количеством зараженных"
   ]
  },
  {
   "cell_type": "code",
   "execution_count": 47,
   "metadata": {},
   "outputs": [
    {
     "data": {
      "text/plain": [
       "<matplotlib.axes._subplots.AxesSubplot at 0x16722989390>"
      ]
     },
     "execution_count": 47,
     "metadata": {},
     "output_type": "execute_result"
    },
    {
     "data": {
      "image/png": "[encoded data removed]",
      "text/plain": [
       "<Figure size 1080x360 with 1 Axes>"
      ]
     },
     "metadata": {
      "needs_background": "light"
     },
     "output_type": "display_data"
    }
   ],
   "source": [
    "plt.rcParams['figure.figsize'] = [15, 5]\n",
    "confirmed.sort_values(by=[confirmed.columns[-1]],ascending = False).iloc[:5,2:].T.plot()"
   ]
  },
  {
   "cell_type": "markdown",
   "metadata": {},
   "source": [
    "соединить таблицы, каждой дате соответствует строка"
   ]
  },
  {
   "cell_type": "code",
   "execution_count": 48,
   "metadata": {
    "scrolled": true
   },
   "outputs": [
    {
     "data": {
      "text/html": [
       "<div>\n",
       "<style scoped>\n",
       "    .dataframe tbody tr th:only-of-type {\n",
       "        vertical-align: middle;\n",
       "    }\n",
       "\n",
       "    .dataframe tbody tr th {\n",
       "        vertical-align: top;\n",
       "    }\n",
       "\n",
       "    .dataframe thead th {\n",
       "        text-align: right;\n",
       "    }\n",
       "</style>\n",
       "<table border=\"1\" class=\"dataframe\">\n",
       "  <thead>\n",
       "    <tr style=\"text-align: right;\">\n",
       "      <th></th>\n",
       "      <th>country</th>\n",
       "      <th>date</th>\n",
       "      <th>confirmed</th>\n",
       "      <th>deaths</th>\n",
       "      <th>recovered</th>\n",
       "    </tr>\n",
       "  </thead>\n",
       "  <tbody>\n",
       "    <tr>\n",
       "      <th>0</th>\n",
       "      <td>Afghanistan</td>\n",
       "      <td>2020-01-22</td>\n",
       "      <td>0</td>\n",
       "      <td>0</td>\n",
       "      <td>0</td>\n",
       "    </tr>\n",
       "    <tr>\n",
       "      <th>1</th>\n",
       "      <td>Afghanistan</td>\n",
       "      <td>2020-01-23</td>\n",
       "      <td>0</td>\n",
       "      <td>0</td>\n",
       "      <td>0</td>\n",
       "    </tr>\n",
       "    <tr>\n",
       "      <th>2</th>\n",
       "      <td>Afghanistan</td>\n",
       "      <td>2020-01-24</td>\n",
       "      <td>0</td>\n",
       "      <td>0</td>\n",
       "      <td>0</td>\n",
       "    </tr>\n",
       "    <tr>\n",
       "      <th>3</th>\n",
       "      <td>Afghanistan</td>\n",
       "      <td>2020-01-25</td>\n",
       "      <td>0</td>\n",
       "      <td>0</td>\n",
       "      <td>0</td>\n",
       "    </tr>\n",
       "    <tr>\n",
       "      <th>4</th>\n",
       "      <td>Afghanistan</td>\n",
       "      <td>2020-01-26</td>\n",
       "      <td>0</td>\n",
       "      <td>0</td>\n",
       "      <td>0</td>\n",
       "    </tr>\n",
       "  </tbody>\n",
       "</table>\n",
       "</div>"
      ],
      "text/plain": [
       "       country       date  confirmed  deaths  recovered\n",
       "0  Afghanistan 2020-01-22          0       0          0\n",
       "1  Afghanistan 2020-01-23          0       0          0\n",
       "2  Afghanistan 2020-01-24          0       0          0\n",
       "3  Afghanistan 2020-01-25          0       0          0\n",
       "4  Afghanistan 2020-01-26          0       0          0"
      ]
     },
     "execution_count": 48,
     "metadata": {},
     "output_type": "execute_result"
    }
   ],
   "source": [
    "confirmed = confirmed.iloc[:,2:].stack().reset_index()\n",
    "confirmed.columns = ['country','date','confirmed']\n",
    "deaths = deaths.iloc[:,2:].stack().reset_index()\n",
    "deaths.columns = ['country','date','deaths']\n",
    "recovered = recovered.iloc[:,2:].stack().reset_index()\n",
    "recovered.columns = ['country','date','recovered']\n",
    "cases = confirmed.merge(deaths, how = 'left', left_on=('country','date'), right_on=('country','date'))\n",
    "cases = cases.merge(recovered, how = 'left', left_on=('country','date'), right_on=('country','date'))\n",
    "cases['date'] = pd.to_datetime(cases['date'])\n",
    "cases.head()"
   ]
  },
  {
   "cell_type": "markdown",
   "metadata": {},
   "source": [
    "удалить дни без зараженных"
   ]
  },
  {
   "cell_type": "code",
   "execution_count": 49,
   "metadata": {},
   "outputs": [],
   "source": [
    "cases = cases[cases['confirmed'] >=5 ]"
   ]
  },
  {
   "cell_type": "markdown",
   "metadata": {},
   "source": [
    "## данные о регионах"
   ]
  },
  {
   "cell_type": "code",
   "execution_count": 50,
   "metadata": {},
   "outputs": [
    {
     "data": {
      "text/html": [
       "<div>\n",
       "<style scoped>\n",
       "    .dataframe tbody tr th:only-of-type {\n",
       "        vertical-align: middle;\n",
       "    }\n",
       "\n",
       "    .dataframe tbody tr th {\n",
       "        vertical-align: top;\n",
       "    }\n",
       "\n",
       "    .dataframe thead th {\n",
       "        text-align: right;\n",
       "    }\n",
       "</style>\n",
       "<table border=\"1\" class=\"dataframe\">\n",
       "  <thead>\n",
       "    <tr style=\"text-align: right;\">\n",
       "      <th></th>\n",
       "      <th>iso_alpha3</th>\n",
       "      <th>ccse_name</th>\n",
       "      <th>density</th>\n",
       "      <th>fertility_rate</th>\n",
       "      <th>land_area</th>\n",
       "      <th>median_age</th>\n",
       "      <th>migrants</th>\n",
       "      <th>population</th>\n",
       "      <th>urban_pop_rate</th>\n",
       "      <th>world_share</th>\n",
       "    </tr>\n",
       "  </thead>\n",
       "  <tbody>\n",
       "    <tr>\n",
       "      <th>0</th>\n",
       "      <td>AFG</td>\n",
       "      <td>Afghanistan</td>\n",
       "      <td>60</td>\n",
       "      <td>4.6</td>\n",
       "      <td>652860</td>\n",
       "      <td>18.0</td>\n",
       "      <td>-62920.0</td>\n",
       "      <td>38928346</td>\n",
       "      <td>0.25</td>\n",
       "      <td>0.0050</td>\n",
       "    </tr>\n",
       "    <tr>\n",
       "      <th>1</th>\n",
       "      <td>ALB</td>\n",
       "      <td>Albania</td>\n",
       "      <td>105</td>\n",
       "      <td>1.6</td>\n",
       "      <td>27400</td>\n",
       "      <td>36.0</td>\n",
       "      <td>-14000.0</td>\n",
       "      <td>2877797</td>\n",
       "      <td>0.63</td>\n",
       "      <td>0.0004</td>\n",
       "    </tr>\n",
       "    <tr>\n",
       "      <th>2</th>\n",
       "      <td>DZA</td>\n",
       "      <td>Algeria</td>\n",
       "      <td>18</td>\n",
       "      <td>3.1</td>\n",
       "      <td>2381740</td>\n",
       "      <td>29.0</td>\n",
       "      <td>-10000.0</td>\n",
       "      <td>43851044</td>\n",
       "      <td>0.73</td>\n",
       "      <td>0.0056</td>\n",
       "    </tr>\n",
       "    <tr>\n",
       "      <th>3</th>\n",
       "      <td>AND</td>\n",
       "      <td>Andorra</td>\n",
       "      <td>164</td>\n",
       "      <td>NaN</td>\n",
       "      <td>470</td>\n",
       "      <td>NaN</td>\n",
       "      <td>NaN</td>\n",
       "      <td>77265</td>\n",
       "      <td>0.88</td>\n",
       "      <td>0.0000</td>\n",
       "    </tr>\n",
       "    <tr>\n",
       "      <th>4</th>\n",
       "      <td>AGO</td>\n",
       "      <td>Angola</td>\n",
       "      <td>26</td>\n",
       "      <td>5.6</td>\n",
       "      <td>1246700</td>\n",
       "      <td>17.0</td>\n",
       "      <td>6413.0</td>\n",
       "      <td>32866272</td>\n",
       "      <td>0.67</td>\n",
       "      <td>0.0042</td>\n",
       "    </tr>\n",
       "  </tbody>\n",
       "</table>\n",
       "</div>"
      ],
      "text/plain": [
       "  iso_alpha3    ccse_name  density  fertility_rate  land_area  median_age  \\\n",
       "0        AFG  Afghanistan       60             4.6     652860        18.0   \n",
       "1        ALB      Albania      105             1.6      27400        36.0   \n",
       "2        DZA      Algeria       18             3.1    2381740        29.0   \n",
       "3        AND      Andorra      164             NaN        470         NaN   \n",
       "4        AGO       Angola       26             5.6    1246700        17.0   \n",
       "\n",
       "   migrants  population  urban_pop_rate  world_share  \n",
       "0  -62920.0    38928346            0.25       0.0050  \n",
       "1  -14000.0     2877797            0.63       0.0004  \n",
       "2  -10000.0    43851044            0.73       0.0056  \n",
       "3       NaN       77265            0.88       0.0000  \n",
       "4    6413.0    32866272            0.67       0.0042  "
      ]
     },
     "execution_count": 50,
     "metadata": {},
     "output_type": "execute_result"
    }
   ],
   "source": [
    "countries = pd.read_csv('countries.csv')\n",
    "countries.drop(['iso_alpha2', 'iso_numeric', 'name', 'official_name'], axis='columns', inplace=True)\n",
    "\n",
    "countries.head()"
   ]
  },
  {
   "cell_type": "code",
   "execution_count": 51,
   "metadata": {},
   "outputs": [
    {
     "data": {
      "text/plain": [
       "iso_alpha3        0\n",
       "ccse_name         0\n",
       "density           0\n",
       "fertility_rate    6\n",
       "land_area         0\n",
       "median_age        6\n",
       "migrants          6\n",
       "population        0\n",
       "urban_pop_rate    5\n",
       "world_share       0\n",
       "dtype: int64"
      ]
     },
     "execution_count": 51,
     "metadata": {},
     "output_type": "execute_result"
    }
   ],
   "source": [
    "countries.isna().sum()"
   ]
  },
  {
   "cell_type": "markdown",
   "metadata": {},
   "source": [
    "удалить пропуски"
   ]
  },
  {
   "cell_type": "code",
   "execution_count": 52,
   "metadata": {
    "scrolled": false
   },
   "outputs": [],
   "source": [
    "countries['fertility_rate'] = countries['fertility_rate'].fillna(countries['fertility_rate'].mean())\n",
    "countries['median_age'] = countries['median_age'].fillna(countries['median_age'].mean())\n",
    "countries['migrants'] = countries['migrants'].fillna(countries['migrants'].mean())\n",
    "countries['urban_pop_rate'] = countries['urban_pop_rate'].fillna(countries['urban_pop_rate'].mean())"
   ]
  },
  {
   "cell_type": "markdown",
   "metadata": {},
   "source": [
    "соединить таблицы"
   ]
  },
  {
   "cell_type": "code",
   "execution_count": 53,
   "metadata": {
    "scrolled": true
   },
   "outputs": [
    {
     "name": "stdout",
     "output_type": "stream",
     "text": [
      "['Botswana' 'Burma' 'Burundi' 'Diamond Princess' 'Guinea-Bissau' 'Kosovo'\n",
      " 'MS Zaandam' 'Malawi' 'Mali' 'Saint Kitts and Nevis'\n",
      " 'Sao Tome and Principe' 'Sierra Leone' 'South Sudan' 'West Bank and Gaza'\n",
      " 'Western Sahara']\n"
     ]
    },
    {
     "data": {
      "text/html": [
       "<div>\n",
       "<style scoped>\n",
       "    .dataframe tbody tr th:only-of-type {\n",
       "        vertical-align: middle;\n",
       "    }\n",
       "\n",
       "    .dataframe tbody tr th {\n",
       "        vertical-align: top;\n",
       "    }\n",
       "\n",
       "    .dataframe thead th {\n",
       "        text-align: right;\n",
       "    }\n",
       "</style>\n",
       "<table border=\"1\" class=\"dataframe\">\n",
       "  <thead>\n",
       "    <tr style=\"text-align: right;\">\n",
       "      <th></th>\n",
       "      <th>date</th>\n",
       "      <th>confirmed</th>\n",
       "      <th>deaths</th>\n",
       "      <th>recovered</th>\n",
       "      <th>iso_alpha3</th>\n",
       "      <th>ccse_name</th>\n",
       "      <th>density</th>\n",
       "      <th>fertility_rate</th>\n",
       "      <th>land_area</th>\n",
       "      <th>median_age</th>\n",
       "      <th>migrants</th>\n",
       "      <th>population</th>\n",
       "      <th>urban_pop_rate</th>\n",
       "      <th>world_share</th>\n",
       "    </tr>\n",
       "  </thead>\n",
       "  <tbody>\n",
       "    <tr>\n",
       "      <th>0</th>\n",
       "      <td>2020-03-10</td>\n",
       "      <td>5</td>\n",
       "      <td>0</td>\n",
       "      <td>0</td>\n",
       "      <td>AFG</td>\n",
       "      <td>Afghanistan</td>\n",
       "      <td>60.0</td>\n",
       "      <td>4.6</td>\n",
       "      <td>652860.0</td>\n",
       "      <td>18.0</td>\n",
       "      <td>-62920.0</td>\n",
       "      <td>38928346.0</td>\n",
       "      <td>0.25</td>\n",
       "      <td>0.005</td>\n",
       "    </tr>\n",
       "    <tr>\n",
       "      <th>1</th>\n",
       "      <td>2020-03-11</td>\n",
       "      <td>7</td>\n",
       "      <td>0</td>\n",
       "      <td>0</td>\n",
       "      <td>AFG</td>\n",
       "      <td>Afghanistan</td>\n",
       "      <td>60.0</td>\n",
       "      <td>4.6</td>\n",
       "      <td>652860.0</td>\n",
       "      <td>18.0</td>\n",
       "      <td>-62920.0</td>\n",
       "      <td>38928346.0</td>\n",
       "      <td>0.25</td>\n",
       "      <td>0.005</td>\n",
       "    </tr>\n",
       "    <tr>\n",
       "      <th>2</th>\n",
       "      <td>2020-03-12</td>\n",
       "      <td>7</td>\n",
       "      <td>0</td>\n",
       "      <td>0</td>\n",
       "      <td>AFG</td>\n",
       "      <td>Afghanistan</td>\n",
       "      <td>60.0</td>\n",
       "      <td>4.6</td>\n",
       "      <td>652860.0</td>\n",
       "      <td>18.0</td>\n",
       "      <td>-62920.0</td>\n",
       "      <td>38928346.0</td>\n",
       "      <td>0.25</td>\n",
       "      <td>0.005</td>\n",
       "    </tr>\n",
       "    <tr>\n",
       "      <th>3</th>\n",
       "      <td>2020-03-13</td>\n",
       "      <td>7</td>\n",
       "      <td>0</td>\n",
       "      <td>0</td>\n",
       "      <td>AFG</td>\n",
       "      <td>Afghanistan</td>\n",
       "      <td>60.0</td>\n",
       "      <td>4.6</td>\n",
       "      <td>652860.0</td>\n",
       "      <td>18.0</td>\n",
       "      <td>-62920.0</td>\n",
       "      <td>38928346.0</td>\n",
       "      <td>0.25</td>\n",
       "      <td>0.005</td>\n",
       "    </tr>\n",
       "    <tr>\n",
       "      <th>4</th>\n",
       "      <td>2020-03-14</td>\n",
       "      <td>11</td>\n",
       "      <td>0</td>\n",
       "      <td>0</td>\n",
       "      <td>AFG</td>\n",
       "      <td>Afghanistan</td>\n",
       "      <td>60.0</td>\n",
       "      <td>4.6</td>\n",
       "      <td>652860.0</td>\n",
       "      <td>18.0</td>\n",
       "      <td>-62920.0</td>\n",
       "      <td>38928346.0</td>\n",
       "      <td>0.25</td>\n",
       "      <td>0.005</td>\n",
       "    </tr>\n",
       "  </tbody>\n",
       "</table>\n",
       "</div>"
      ],
      "text/plain": [
       "        date  confirmed  deaths  recovered iso_alpha3    ccse_name  density  \\\n",
       "0 2020-03-10          5       0          0        AFG  Afghanistan     60.0   \n",
       "1 2020-03-11          7       0          0        AFG  Afghanistan     60.0   \n",
       "2 2020-03-12          7       0          0        AFG  Afghanistan     60.0   \n",
       "3 2020-03-13          7       0          0        AFG  Afghanistan     60.0   \n",
       "4 2020-03-14         11       0          0        AFG  Afghanistan     60.0   \n",
       "\n",
       "   fertility_rate  land_area  median_age  migrants  population  \\\n",
       "0             4.6   652860.0        18.0  -62920.0  38928346.0   \n",
       "1             4.6   652860.0        18.0  -62920.0  38928346.0   \n",
       "2             4.6   652860.0        18.0  -62920.0  38928346.0   \n",
       "3             4.6   652860.0        18.0  -62920.0  38928346.0   \n",
       "4             4.6   652860.0        18.0  -62920.0  38928346.0   \n",
       "\n",
       "   urban_pop_rate  world_share  \n",
       "0            0.25        0.005  \n",
       "1            0.25        0.005  \n",
       "2            0.25        0.005  \n",
       "3            0.25        0.005  \n",
       "4            0.25        0.005  "
      ]
     },
     "execution_count": 53,
     "metadata": {},
     "output_type": "execute_result"
    }
   ],
   "source": [
    "#!!!!!!!!!!!!!!!!!!!!!!!!!!!!!не для всех есть инф-ция по стране\n",
    "df = cases.merge(countries, how = 'left', left_on='country', right_on='ccse_name')\n",
    "print(df[df['iso_alpha3'].isna()]['country'].unique())\n",
    "df = df.dropna(axis='index', how='any')\n",
    "df.drop(['country'], axis='columns', inplace=True)\n",
    "df.head()"
   ]
  },
  {
   "cell_type": "markdown",
   "metadata": {},
   "source": [
    "# новые признаки\n"
   ]
  },
  {
   "cell_type": "markdown",
   "metadata": {},
   "source": [
    "'day' - счетчик дней с пятого заболевшего в регионе"
   ]
  },
  {
   "cell_type": "code",
   "execution_count": 54,
   "metadata": {
    "scrolled": true
   },
   "outputs": [
    {
     "data": {
      "text/plain": [
       "(8370, 16)"
      ]
     },
     "execution_count": 54,
     "metadata": {},
     "output_type": "execute_result"
    }
   ],
   "source": [
    "first_day = df[['date','ccse_name']].groupby('ccse_name').min()\n",
    "df = df.merge(first_day, how = 'left', left_on='ccse_name', right_on='ccse_name',suffixes=('', '_first'))\n",
    "df['day'] = (df['date'] - df['date_first']).dt.days\n",
    "df.head()\n",
    "df.shape"
   ]
  },
  {
   "cell_type": "markdown",
   "metadata": {},
   "source": [
    "'confirmed_last' - число заболевших в прошлый день, \n",
    "'deaths_last' - число погибших в прошлый день"
   ]
  },
  {
   "cell_type": "code",
   "execution_count": 55,
   "metadata": {},
   "outputs": [
    {
     "data": {
      "text/html": [
       "<div>\n",
       "<style scoped>\n",
       "    .dataframe tbody tr th:only-of-type {\n",
       "        vertical-align: middle;\n",
       "    }\n",
       "\n",
       "    .dataframe tbody tr th {\n",
       "        vertical-align: top;\n",
       "    }\n",
       "\n",
       "    .dataframe thead th {\n",
       "        text-align: right;\n",
       "    }\n",
       "</style>\n",
       "<table border=\"1\" class=\"dataframe\">\n",
       "  <thead>\n",
       "    <tr style=\"text-align: right;\">\n",
       "      <th></th>\n",
       "      <th>date</th>\n",
       "      <th>confirmed</th>\n",
       "      <th>deaths</th>\n",
       "      <th>recovered</th>\n",
       "      <th>iso_alpha3</th>\n",
       "      <th>ccse_name</th>\n",
       "      <th>density</th>\n",
       "      <th>fertility_rate</th>\n",
       "      <th>land_area</th>\n",
       "      <th>median_age</th>\n",
       "      <th>migrants</th>\n",
       "      <th>population</th>\n",
       "      <th>urban_pop_rate</th>\n",
       "      <th>world_share</th>\n",
       "      <th>date_first</th>\n",
       "      <th>day</th>\n",
       "      <th>confirmed_last</th>\n",
       "      <th>deaths_last</th>\n",
       "    </tr>\n",
       "  </thead>\n",
       "  <tbody>\n",
       "    <tr>\n",
       "      <th>1</th>\n",
       "      <td>2020-03-11</td>\n",
       "      <td>7</td>\n",
       "      <td>0</td>\n",
       "      <td>0</td>\n",
       "      <td>AFG</td>\n",
       "      <td>Afghanistan</td>\n",
       "      <td>60.0</td>\n",
       "      <td>4.6</td>\n",
       "      <td>652860.0</td>\n",
       "      <td>18.0</td>\n",
       "      <td>-62920.0</td>\n",
       "      <td>38928346.0</td>\n",
       "      <td>0.25</td>\n",
       "      <td>0.005</td>\n",
       "      <td>2020-03-10</td>\n",
       "      <td>1</td>\n",
       "      <td>5.0</td>\n",
       "      <td>0.0</td>\n",
       "    </tr>\n",
       "    <tr>\n",
       "      <th>2</th>\n",
       "      <td>2020-03-12</td>\n",
       "      <td>7</td>\n",
       "      <td>0</td>\n",
       "      <td>0</td>\n",
       "      <td>AFG</td>\n",
       "      <td>Afghanistan</td>\n",
       "      <td>60.0</td>\n",
       "      <td>4.6</td>\n",
       "      <td>652860.0</td>\n",
       "      <td>18.0</td>\n",
       "      <td>-62920.0</td>\n",
       "      <td>38928346.0</td>\n",
       "      <td>0.25</td>\n",
       "      <td>0.005</td>\n",
       "      <td>2020-03-10</td>\n",
       "      <td>2</td>\n",
       "      <td>7.0</td>\n",
       "      <td>0.0</td>\n",
       "    </tr>\n",
       "    <tr>\n",
       "      <th>3</th>\n",
       "      <td>2020-03-13</td>\n",
       "      <td>7</td>\n",
       "      <td>0</td>\n",
       "      <td>0</td>\n",
       "      <td>AFG</td>\n",
       "      <td>Afghanistan</td>\n",
       "      <td>60.0</td>\n",
       "      <td>4.6</td>\n",
       "      <td>652860.0</td>\n",
       "      <td>18.0</td>\n",
       "      <td>-62920.0</td>\n",
       "      <td>38928346.0</td>\n",
       "      <td>0.25</td>\n",
       "      <td>0.005</td>\n",
       "      <td>2020-03-10</td>\n",
       "      <td>3</td>\n",
       "      <td>7.0</td>\n",
       "      <td>0.0</td>\n",
       "    </tr>\n",
       "    <tr>\n",
       "      <th>4</th>\n",
       "      <td>2020-03-14</td>\n",
       "      <td>11</td>\n",
       "      <td>0</td>\n",
       "      <td>0</td>\n",
       "      <td>AFG</td>\n",
       "      <td>Afghanistan</td>\n",
       "      <td>60.0</td>\n",
       "      <td>4.6</td>\n",
       "      <td>652860.0</td>\n",
       "      <td>18.0</td>\n",
       "      <td>-62920.0</td>\n",
       "      <td>38928346.0</td>\n",
       "      <td>0.25</td>\n",
       "      <td>0.005</td>\n",
       "      <td>2020-03-10</td>\n",
       "      <td>4</td>\n",
       "      <td>7.0</td>\n",
       "      <td>0.0</td>\n",
       "    </tr>\n",
       "    <tr>\n",
       "      <th>5</th>\n",
       "      <td>2020-03-15</td>\n",
       "      <td>16</td>\n",
       "      <td>0</td>\n",
       "      <td>0</td>\n",
       "      <td>AFG</td>\n",
       "      <td>Afghanistan</td>\n",
       "      <td>60.0</td>\n",
       "      <td>4.6</td>\n",
       "      <td>652860.0</td>\n",
       "      <td>18.0</td>\n",
       "      <td>-62920.0</td>\n",
       "      <td>38928346.0</td>\n",
       "      <td>0.25</td>\n",
       "      <td>0.005</td>\n",
       "      <td>2020-03-10</td>\n",
       "      <td>5</td>\n",
       "      <td>11.0</td>\n",
       "      <td>0.0</td>\n",
       "    </tr>\n",
       "  </tbody>\n",
       "</table>\n",
       "</div>"
      ],
      "text/plain": [
       "        date  confirmed  deaths  recovered iso_alpha3    ccse_name  density  \\\n",
       "1 2020-03-11          7       0          0        AFG  Afghanistan     60.0   \n",
       "2 2020-03-12          7       0          0        AFG  Afghanistan     60.0   \n",
       "3 2020-03-13          7       0          0        AFG  Afghanistan     60.0   \n",
       "4 2020-03-14         11       0          0        AFG  Afghanistan     60.0   \n",
       "5 2020-03-15         16       0          0        AFG  Afghanistan     60.0   \n",
       "\n",
       "   fertility_rate  land_area  median_age  migrants  population  \\\n",
       "1             4.6   652860.0        18.0  -62920.0  38928346.0   \n",
       "2             4.6   652860.0        18.0  -62920.0  38928346.0   \n",
       "3             4.6   652860.0        18.0  -62920.0  38928346.0   \n",
       "4             4.6   652860.0        18.0  -62920.0  38928346.0   \n",
       "5             4.6   652860.0        18.0  -62920.0  38928346.0   \n",
       "\n",
       "   urban_pop_rate  world_share date_first  day  confirmed_last  deaths_last  \n",
       "1            0.25        0.005 2020-03-10    1             5.0          0.0  \n",
       "2            0.25        0.005 2020-03-10    2             7.0          0.0  \n",
       "3            0.25        0.005 2020-03-10    3             7.0          0.0  \n",
       "4            0.25        0.005 2020-03-10    4             7.0          0.0  \n",
       "5            0.25        0.005 2020-03-10    5            11.0          0.0  "
      ]
     },
     "execution_count": 55,
     "metadata": {},
     "output_type": "execute_result"
    }
   ],
   "source": [
    "df[['confirmed_last','deaths_last','ccse_name']] = df[['confirmed','deaths','ccse_name']].groupby('ccse_name').shift(periods=1, axis='index')\n",
    "df = df.dropna(axis='index', how='any')\n",
    "df.shape\n",
    "df.head()"
   ]
  },
  {
   "cell_type": "markdown",
   "metadata": {},
   "source": [
    "'confirmed_delta' - изменение числа заболевших в прошлый день, \n",
    "'deaths_delta' - изменение числа погибших в прошлый день"
   ]
  },
  {
   "cell_type": "code",
   "execution_count": 56,
   "metadata": {},
   "outputs": [
    {
     "data": {
      "text/plain": [
       "(8032, 22)"
      ]
     },
     "execution_count": 56,
     "metadata": {},
     "output_type": "execute_result"
    }
   ],
   "source": [
    "df['confirmed_delta'] = (df['confirmed'] - df['confirmed_last']).abs()\n",
    "df['deaths_delta'] = (df['deaths'] - df['deaths_last']).abs()\n",
    "df[['confirmed_delta_last','deaths_delta_last','ccse_name']] = df[['confirmed_delta','deaths_delta','ccse_name']].groupby('ccse_name').shift(periods=1, axis='index')\n",
    "df = df.dropna(axis='index', how='any')\n",
    "df.shape"
   ]
  },
  {
   "cell_type": "markdown",
   "metadata": {},
   "source": [
    "'confirmed/population', 'deaths/population'"
   ]
  },
  {
   "cell_type": "code",
   "execution_count": 57,
   "metadata": {},
   "outputs": [
    {
     "data": {
      "text/plain": [
       "(8032, 24)"
      ]
     },
     "execution_count": 57,
     "metadata": {},
     "output_type": "execute_result"
    }
   ],
   "source": [
    "df['confirmed/population'] = df['confirmed_last'] / df['population']\n",
    "df['deaths/population'] = df['deaths_last'] / df['population']\n",
    "df.shape"
   ]
  },
  {
   "cell_type": "markdown",
   "metadata": {},
   "source": [
    "# модель"
   ]
  },
  {
   "cell_type": "code",
   "execution_count": 59,
   "metadata": {},
   "outputs": [],
   "source": [
    "def male(y_true, y_score):\n",
    "    return np.mean(np.abs(np.log10((y_score+1)/(y_true+1))))"
   ]
  },
  {
   "cell_type": "code",
   "execution_count": 83,
   "metadata": {},
   "outputs": [],
   "source": [
    "feature_list = ['density', 'fertility_rate', 'land_area', 'median_age', 'migrants',\n",
    "               'population', 'urban_pop_rate', 'world_share', 'day', 'confirmed_last',\n",
    "                'deaths_last', 'confirmed_delta_last', 'deaths_delta_last', 'confirmed/population', 'deaths/population']\n",
    "\n",
    "test_region = 'Korea, South'\n",
    "#test_region = 'Russia'"
   ]
  },
  {
   "cell_type": "code",
   "execution_count": 84,
   "metadata": {},
   "outputs": [
    {
     "data": {
      "text/html": [
       "<div>\n",
       "<style scoped>\n",
       "    .dataframe tbody tr th:only-of-type {\n",
       "        vertical-align: middle;\n",
       "    }\n",
       "\n",
       "    .dataframe tbody tr th {\n",
       "        vertical-align: top;\n",
       "    }\n",
       "\n",
       "    .dataframe thead th {\n",
       "        text-align: right;\n",
       "    }\n",
       "</style>\n",
       "<table border=\"1\" class=\"dataframe\">\n",
       "  <thead>\n",
       "    <tr style=\"text-align: right;\">\n",
       "      <th></th>\n",
       "      <th>density</th>\n",
       "      <th>fertility_rate</th>\n",
       "      <th>land_area</th>\n",
       "      <th>median_age</th>\n",
       "      <th>migrants</th>\n",
       "      <th>population</th>\n",
       "      <th>urban_pop_rate</th>\n",
       "      <th>world_share</th>\n",
       "      <th>day</th>\n",
       "      <th>confirmed_last</th>\n",
       "      <th>deaths_last</th>\n",
       "      <th>confirmed_delta_last</th>\n",
       "      <th>deaths_delta_last</th>\n",
       "      <th>confirmed/population</th>\n",
       "      <th>deaths/population</th>\n",
       "    </tr>\n",
       "  </thead>\n",
       "  <tbody>\n",
       "    <tr>\n",
       "      <th>2</th>\n",
       "      <td>-0.171351</td>\n",
       "      <td>1.966892</td>\n",
       "      <td>-0.120279</td>\n",
       "      <td>-1.736962</td>\n",
       "      <td>-0.495534</td>\n",
       "      <td>-0.107725</td>\n",
       "      <td>-1.949414</td>\n",
       "      <td>-0.1076</td>\n",
       "      <td>-1.400080</td>\n",
       "      <td>-0.184722</td>\n",
       "      <td>-0.170915</td>\n",
       "      <td>-0.185843</td>\n",
       "      <td>-0.179322</td>\n",
       "      <td>-0.318707</td>\n",
       "      <td>-0.208756</td>\n",
       "    </tr>\n",
       "    <tr>\n",
       "      <th>3</th>\n",
       "      <td>-0.171351</td>\n",
       "      <td>1.966892</td>\n",
       "      <td>-0.120279</td>\n",
       "      <td>-1.736962</td>\n",
       "      <td>-0.495534</td>\n",
       "      <td>-0.107725</td>\n",
       "      <td>-1.949414</td>\n",
       "      <td>-0.1076</td>\n",
       "      <td>-1.346508</td>\n",
       "      <td>-0.184722</td>\n",
       "      <td>-0.170915</td>\n",
       "      <td>-0.186830</td>\n",
       "      <td>-0.179322</td>\n",
       "      <td>-0.318707</td>\n",
       "      <td>-0.208756</td>\n",
       "    </tr>\n",
       "    <tr>\n",
       "      <th>4</th>\n",
       "      <td>-0.171351</td>\n",
       "      <td>1.966892</td>\n",
       "      <td>-0.120279</td>\n",
       "      <td>-1.736962</td>\n",
       "      <td>-0.495534</td>\n",
       "      <td>-0.107725</td>\n",
       "      <td>-1.949414</td>\n",
       "      <td>-0.1076</td>\n",
       "      <td>-1.292935</td>\n",
       "      <td>-0.184722</td>\n",
       "      <td>-0.170915</td>\n",
       "      <td>-0.186830</td>\n",
       "      <td>-0.179322</td>\n",
       "      <td>-0.318707</td>\n",
       "      <td>-0.208756</td>\n",
       "    </tr>\n",
       "    <tr>\n",
       "      <th>5</th>\n",
       "      <td>-0.171351</td>\n",
       "      <td>1.966892</td>\n",
       "      <td>-0.120279</td>\n",
       "      <td>-1.736962</td>\n",
       "      <td>-0.495534</td>\n",
       "      <td>-0.107725</td>\n",
       "      <td>-1.949414</td>\n",
       "      <td>-0.1076</td>\n",
       "      <td>-1.239363</td>\n",
       "      <td>-0.184629</td>\n",
       "      <td>-0.170915</td>\n",
       "      <td>-0.184856</td>\n",
       "      <td>-0.179322</td>\n",
       "      <td>-0.318623</td>\n",
       "      <td>-0.208756</td>\n",
       "    </tr>\n",
       "    <tr>\n",
       "      <th>6</th>\n",
       "      <td>-0.171351</td>\n",
       "      <td>1.966892</td>\n",
       "      <td>-0.120279</td>\n",
       "      <td>-1.736962</td>\n",
       "      <td>-0.495534</td>\n",
       "      <td>-0.107725</td>\n",
       "      <td>-1.949414</td>\n",
       "      <td>-0.1076</td>\n",
       "      <td>-1.185790</td>\n",
       "      <td>-0.184513</td>\n",
       "      <td>-0.170915</td>\n",
       "      <td>-0.184363</td>\n",
       "      <td>-0.179322</td>\n",
       "      <td>-0.318518</td>\n",
       "      <td>-0.208756</td>\n",
       "    </tr>\n",
       "  </tbody>\n",
       "</table>\n",
       "</div>"
      ],
      "text/plain": [
       "    density  fertility_rate  land_area  median_age  migrants  population  \\\n",
       "2 -0.171351        1.966892  -0.120279   -1.736962 -0.495534   -0.107725   \n",
       "3 -0.171351        1.966892  -0.120279   -1.736962 -0.495534   -0.107725   \n",
       "4 -0.171351        1.966892  -0.120279   -1.736962 -0.495534   -0.107725   \n",
       "5 -0.171351        1.966892  -0.120279   -1.736962 -0.495534   -0.107725   \n",
       "6 -0.171351        1.966892  -0.120279   -1.736962 -0.495534   -0.107725   \n",
       "\n",
       "   urban_pop_rate  world_share       day  confirmed_last  deaths_last  \\\n",
       "2       -1.949414      -0.1076 -1.400080       -0.184722    -0.170915   \n",
       "3       -1.949414      -0.1076 -1.346508       -0.184722    -0.170915   \n",
       "4       -1.949414      -0.1076 -1.292935       -0.184722    -0.170915   \n",
       "5       -1.949414      -0.1076 -1.239363       -0.184629    -0.170915   \n",
       "6       -1.949414      -0.1076 -1.185790       -0.184513    -0.170915   \n",
       "\n",
       "   confirmed_delta_last  deaths_delta_last  confirmed/population  \\\n",
       "2             -0.185843          -0.179322             -0.318707   \n",
       "3             -0.186830          -0.179322             -0.318707   \n",
       "4             -0.186830          -0.179322             -0.318707   \n",
       "5             -0.184856          -0.179322             -0.318623   \n",
       "6             -0.184363          -0.179322             -0.318518   \n",
       "\n",
       "   deaths/population  \n",
       "2          -0.208756  \n",
       "3          -0.208756  \n",
       "4          -0.208756  \n",
       "5          -0.208756  \n",
       "6          -0.208756  "
      ]
     },
     "execution_count": 84,
     "metadata": {},
     "output_type": "execute_result"
    }
   ],
   "source": [
    "data = df.copy()\n",
    "\n",
    "scaler = preprocessing.StandardScaler()\n",
    "data[feature_list] = scaler.fit_transform(data[feature_list])\n",
    "\n",
    "\n",
    "data_test = data[data['ccse_name'] == test_region]\n",
    "X_test = data_test[feature_list]\n",
    "y_c_test = data_test['confirmed_delta']\n",
    "y_d_test = data_test['deaths_delta']\n",
    "c_test = data_test['confirmed']\n",
    "d_test = data_test['deaths']\n",
    "\n",
    "\n",
    "train = data[(data['ccse_name'] != test_region)]\n",
    "X = train[feature_list]\n",
    "y_c = train['confirmed_delta']\n",
    "y_d = train['deaths_delta']\n",
    "\n",
    "\n",
    "X.head()"
   ]
  },
  {
   "cell_type": "code",
   "execution_count": 85,
   "metadata": {},
   "outputs": [],
   "source": [
    "#model_conf = linear_model.Lasso().fit(X, y_conf)\n",
    "#model_deaths = linear_model.Lasso().fit(X, y_deaths)\n",
    "\n",
    "#model_conf = ensemble.RandomForestRegressor(n_estimators = 200, max_depth = 15).fit(X, y_conf)\n",
    "#model_deaths = ensemble.RandomForestRegressor(n_estimators = 200, max_depth = 15).fit(X, y_deaths)\n",
    "\n",
    "model_c = XGBRegressor(objective ='reg:squarederror',n_estimators=500, max_depth=30).fit(X, y_c)\n",
    "model_d = XGBRegressor(objective ='reg:squarederror',n_estimators=500, max_depth=30).fit(X, y_d)"
   ]
  },
  {
   "cell_type": "code",
   "execution_count": 86,
   "metadata": {},
   "outputs": [
    {
     "name": "stdout",
     "output_type": "stream",
     "text": [
      "MALE confirmed:  0.4802124059570831\n",
      "MALE deaths:  0.41626592115862004\n"
     ]
    },
    {
     "name": "stderr",
     "output_type": "stream",
     "text": [
      "F:\\Apps\\Anaconda\\lib\\site-packages\\ipykernel_launcher.py:2: RuntimeWarning: invalid value encountered in log10\n",
      "  \n"
     ]
    }
   ],
   "source": [
    "pred_c = model_c.predict(X_test)\n",
    "pred_d = model_d.predict(X_test)\n",
    "print('MALE confirmed: ', male(y_c_test, pred_c))\n",
    "print('MALE deaths: ', male(y_d_test, pred_d))"
   ]
  },
  {
   "cell_type": "code",
   "execution_count": 87,
   "metadata": {},
   "outputs": [
    {
     "data": {
      "text/plain": [
       "<matplotlib.legend.Legend at 0x167285005f8>"
      ]
     },
     "execution_count": 87,
     "metadata": {},
     "output_type": "execute_result"
    },
    {
     "data": {
      "image/png": "[encoded data removed]",
      "text/plain": [
       "<Figure size 1080x360 with 1 Axes>"
      ]
     },
     "metadata": {
      "needs_background": "light"
     },
     "output_type": "display_data"
    }
   ],
   "source": [
    "fig, ax = plt.subplots()\n",
    "x = list(range(len(pred_c)))\n",
    "ax.plot(x, pred_c, marker='o', label = \"Предсказанное значение\") \n",
    "ax.plot(x, y_c_test, marker='o', label = \"Настоящее значение\") \n",
    "ax.legend()"
   ]
  },
  {
   "cell_type": "code",
   "execution_count": 89,
   "metadata": {},
   "outputs": [
    {
     "data": {
      "text/plain": [
       "<matplotlib.legend.Legend at 0x16725ad3278>"
      ]
     },
     "execution_count": 89,
     "metadata": {},
     "output_type": "execute_result"
    },
    {
     "data": {
      "image/png": "[encoded data removed]",
      "text/plain": [
       "<Figure size 1080x360 with 1 Axes>"
      ]
     },
     "metadata": {
      "needs_background": "light"
     },
     "output_type": "display_data"
    }
   ],
   "source": [
    "#построить прогноз на N_DAYS дней\n",
    "N_DAYS = 15\n",
    "LAG = 5\n",
    "\n",
    "\n",
    "\n",
    "X1 = pd.DataFrame(X_test.iloc[-1-LAG]).T\n",
    "C = [c_test.iloc[-LAG]]\n",
    "D = [c_test.iloc[-LAG]]\n",
    "for i in range(N_DAYS):\n",
    "    #print(X1)\n",
    "    c = model_c.predict(X1)\n",
    "    d = model_d.predict(X1)\n",
    "    X1[:] = scaler.inverse_transform(X1[:])\n",
    "    C.append(X1.iloc[0]['confirmed_last'] + c[0])\n",
    "    D.append(X1.iloc[0]['deaths_last'] + d[0])\n",
    "    #'day', 'confirmed_last','deaths_last', 'confirmed_delta_last', 'deaths_delta_last'\n",
    "    X1['day'] += 1\n",
    "    X1.iloc[0]['confirmed_last'] += c[0]\n",
    "    X1.iloc[0]['deaths_last'] += d[0]\n",
    "    X1.iloc[0]['confirmed_delta_last'] = c[0]\n",
    "    X1.iloc[0]['deaths_delta_last'] = d[0]\n",
    "    \n",
    "    X1['confirmed/population'] = X1['confirmed_last'] / X1['population']\n",
    "    X1['deaths/population'] = X1['deaths_last'] / X1['population']\n",
    "\n",
    "    X1[:] = scaler.transform(X1[:])\n",
    "\n",
    "#график\n",
    "fig, ax = plt.subplots()\n",
    "x1 = list(range(len(c_test[40:])))\n",
    "x2 = np.array(range(N_DAYS+1)) + len(x1) - LAG\n",
    "ax.plot(x1, c_test[40:], marker='o', label = \"Настоящее значение\") \n",
    "ax.plot(x2, C, marker='o', label = \"Предсказанное значение\")\n",
    "ax.legend()"
   ]
  }
 ],
 "metadata": {
  "kernelspec": {
   "display_name": "Python 3",
   "language": "python",
   "name": "python3"
  },
  "language_info": {
   "codemirror_mode": {
    "name": "ipython",
    "version": 3
   },
   "file_extension": ".py",
   "mimetype": "text/x-python",
   "name": "python",
   "nbconvert_exporter": "python",
   "pygments_lexer": "ipython3",
   "version": "3.7.3"
  }
 },
 "nbformat": 4,
 "nbformat_minor": 2
}
